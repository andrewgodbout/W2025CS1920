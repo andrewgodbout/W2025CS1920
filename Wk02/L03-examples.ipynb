{
 "cells": [
  {
   "cell_type": "markdown",
   "id": "c3f7b33f",
   "metadata": {},
   "source": [
    "## FILEIO EXAMPLES"
   ]
  },
  {
   "cell_type": "code",
   "execution_count": 1,
   "id": "2ccd213f-8566-4d2a-8991-66879a970ae4",
   "metadata": {},
   "outputs": [
    {
     "name": "stdout",
     "output_type": "stream",
     "text": [
      "/Users/andrewgodbout/Desktop/CS1920/Lectures/Wk2/CodingThe history saving thread hit an unexpected error (OperationalError('attempt to write a readonly database')).History will not be written to the database.\n",
      "\n",
      "['moreweather.txt', 'weather.txt', 'movies.txt', 'test.py', 'lotsofweather.txt']\n",
      "True\n"
     ]
    }
   ],
   "source": [
    "#a few directory examples \n",
    "\n",
    "#os stands for operating system\n",
    "import os\n",
    "\n",
    "#what is the current working directory? (cwd)\n",
    "print(os.getcwd())\n",
    "\n",
    "#list all the files in the data directory\n",
    "print(os.listdir(\"data\"))\n",
    "\n",
    "#a strange way to specify a file in the current directory\n",
    "print(os.path.exists(\"data/../data\")) #this is unix style path\n"
   ]
  },
  {
   "cell_type": "markdown",
   "id": "ff55108d-6a6f-47c5-bd29-16e3968ef02a",
   "metadata": {},
   "source": [
    "## Absolute and relative paths\n"
   ]
  },
  {
   "cell_type": "code",
   "execution_count": 10,
   "id": "450bdc32-c033-4cd6-9f25-e6b411696863",
   "metadata": {},
   "outputs": [
    {
     "name": "stdout",
     "output_type": "stream",
     "text": [
      "True\n",
      "/Users/andrewgodbout/Desktop/CS1920/Lectures/Wk2/Coding/data/movies.txt\n",
      "data\n",
      "directory\n",
      "data/movies.txt\n",
      "file\n",
      "True\n"
     ]
    }
   ],
   "source": [
    "my_path = os.path.join(\"data\", \"movies.txt\")\n",
    "print(os.path.exists(my_path))\n",
    "\n",
    "print(os.path.abspath(my_path))\n",
    "\n",
    "def directory_printer(path):\n",
    "    print(path)\n",
    "    if os.path.isdir(path):\n",
    "        print(\"directory\")\n",
    "    else:\n",
    "        print(\"file\")\n",
    "    \n",
    "directory_printer(\"data\")\n",
    "directory_printer(my_path)\n",
    "\n",
    "print(os.path.isfile(my_path))"
   ]
  },
  {
   "cell_type": "code",
   "execution_count": null,
   "id": "a3c978db-71ed-4c5a-bdac-21faa144b821",
   "metadata": {},
   "outputs": [],
   "source": [
    "#What does the following code accomplish?\n",
    "\n",
    "def walk(dirname):\n",
    "    for name in os.listdir(dirname):\n",
    "        path = os.path.join(dirname, name)\n",
    "    if os.path.isfile(path):\n",
    "        print(path)\n",
    "    elif os.path.isdir(path):\n",
    "        walk(path) #we'll see more of this later in the course\n"
   ]
  },
  {
   "cell_type": "markdown",
   "id": "193e06e1-cb97-49d3-8dd8-6a0f26be2249",
   "metadata": {},
   "source": [
    "# Reading and Writing Files"
   ]
  },
  {
   "cell_type": "markdown",
   "id": "99e2a6e2",
   "metadata": {},
   "source": [
    "movies.txt contains:\n",
    "    \n",
    "Canadian Bacon\n",
    "Cool Runnings\n",
    "The Great Outdoors\n",
    "Uncle Buck\n",
    "Planes Trains and Automobiles\n",
    "    "
   ]
  },
  {
   "cell_type": "code",
   "execution_count": 7,
   "id": "efb89c19",
   "metadata": {},
   "outputs": [],
   "source": [
    "## Opening a textfile\n",
    "\n",
    "#open a file for reading\n",
    "movie_file = open(\"data/movies.txt\", 'r') #be careful here, data/movies.txt is unix style path\n",
    "\n",
    "movie_titles = []\n",
    "\n",
    "#read the file line by line\n",
    "for line in movie_file:\n",
    "    movie_titles.append(line)\n",
    "    \n",
    "#don't forget to close the file\n",
    "movie_file.close()\n",
    "\n"
   ]
  },
  {
   "cell_type": "code",
   "execution_count": 8,
   "id": "2c4443eb",
   "metadata": {},
   "outputs": [
    {
     "name": "stdout",
     "output_type": "stream",
     "text": [
      "['Canadian Bacon\\n', 'Cool Runnings\\n', 'The Great Outdoors\\n', 'Uncle Buck\\n', 'Planes Trains and Automobiles\\n']\n"
     ]
    }
   ],
   "source": [
    "print(movie_titles)"
   ]
  },
  {
   "cell_type": "markdown",
   "id": "57e4dd33",
   "metadata": {},
   "source": [
    "In the above output you may notice the '\\n' character. This is the newline character, the \\ denotes an escape character and \\n is considered a single character in python representing a newline. "
   ]
  },
  {
   "cell_type": "code",
   "execution_count": 9,
   "id": "87e15487",
   "metadata": {},
   "outputs": [
    {
     "name": "stdout",
     "output_type": "stream",
     "text": [
      "['Canadian Bacon', 'Cool Runnings', 'The Great Outdoors', 'Uncle Buck', 'Planes Trains and Automobiles']\n"
     ]
    }
   ],
   "source": [
    "#strip away the newline characters to leave only the movie titles\n",
    "#rstrip will remove trailing characters from a string\n",
    "#if no arguments are passed to it, then it will remove trailing whitespace characters\n",
    "movie_titles = [x.rstrip() for x in movie_titles]\n",
    "\n",
    "print(movie_titles)"
   ]
  },
  {
   "cell_type": "code",
   "execution_count": null,
   "id": "f9b0ba6b-c953-4a10-89f1-561d049548ad",
   "metadata": {},
   "outputs": [],
   "source": []
  },
  {
   "cell_type": "markdown",
   "id": "0464f596",
   "metadata": {},
   "source": [
    "## What about numbers?"
   ]
  },
  {
   "cell_type": "markdown",
   "id": "c290767f",
   "metadata": {},
   "source": [
    "weather.txt contains:\n",
    "\n",
    "Monday,-12,sunny\n",
    "Tuesday,8,rainy\n",
    "Wednesday,7,cloudy\n",
    "Thursday,13,windy\n",
    "Friday,0,hail\n",
    "Saturday,-2,snowy\n",
    "Sunday,2,foggy"
   ]
  },
  {
   "cell_type": "code",
   "execution_count": 15,
   "id": "56fb6826",
   "metadata": {},
   "outputs": [
    {
     "name": "stdout",
     "output_type": "stream",
     "text": [
      "['Monday,-12,sunny', 'Tuesday,8,rainy', 'Wednesday,7,cloudy', 'Thursday,13,windy', 'Friday,0,hail', 'Saturday,-2,snowy', 'Sunday,2,foggy']\n"
     ]
    }
   ],
   "source": [
    "import os\n",
    "\n",
    "weather_path = os.path.join(\"data\",\"weather.txt\") # a better way to specify a location\n",
    "\n",
    "weather_file = open(weather_path, 'r')\n",
    "\n",
    "raw_lines = []\n",
    "\n",
    "for line in weather_file:\n",
    "    #strip the newline while reading in the lines\n",
    "    raw_lines.append(line.rstrip())  \n",
    "    \n",
    "print(raw_lines)\n",
    "\n",
    "#don't forget to close the file\n",
    "weather_file.close()"
   ]
  },
  {
   "cell_type": "code",
   "execution_count": 16,
   "id": "efc42bb6",
   "metadata": {},
   "outputs": [
    {
     "name": "stdout",
     "output_type": "stream",
     "text": [
      "[['Monday', '-12', 'sunny'], ['Tuesday', '8', 'rainy'], ['Wednesday', '7', 'cloudy'], ['Thursday', '13', 'windy'], ['Friday', '0', 'hail'], ['Saturday', '-2', 'snowy'], ['Sunday', '2', 'foggy']]\n"
     ]
    }
   ],
   "source": [
    "#split the lines on commas\n",
    "\n",
    "lines = []\n",
    "\n",
    "for line in raw_lines:\n",
    "    columns = line.split(\",\")\n",
    "    lines.append(columns)\n",
    "    \n",
    "    \n",
    "#2D list\n",
    "print(lines)"
   ]
  },
  {
   "cell_type": "code",
   "execution_count": 18,
   "id": "750a4b81",
   "metadata": {},
   "outputs": [
    {
     "name": "stdout",
     "output_type": "stream",
     "text": [
      "warmest day: Tuesday\n"
     ]
    }
   ],
   "source": [
    "#Find the warmest day\n",
    "\n",
    "#initialize to the first entry\n",
    "warmest_day = lines[0][0]\n",
    "warmest_temp = lines[0][1]\n",
    "\n",
    "for line in lines:\n",
    "    if line[1] > warmest_temp:\n",
    "        warmest_temp = line[1]\n",
    "        warmest_day = line[0]\n",
    "        \n",
    "        \n",
    "print(f'warmest day: {warmest_day}')"
   ]
  },
  {
   "cell_type": "markdown",
   "id": "073ebb38-61a9-4eea-941a-100d8a859cd7",
   "metadata": {},
   "source": [
    "## Yay! \n",
    "Tuesday was the warmest ....\n",
    "\n",
    "oops "
   ]
  },
  {
   "cell_type": "markdown",
   "id": "68e5492f",
   "metadata": {},
   "source": [
    "Be careful when dealing with Strings\n",
    "\n",
    "Fix the above code"
   ]
  },
  {
   "cell_type": "code",
   "execution_count": 1,
   "id": "27b8e0f0",
   "metadata": {},
   "outputs": [
    {
     "name": "stdout",
     "output_type": "stream",
     "text": [
      "Monday,-12,sunny\n",
      "Tuesday,8,rainy\n",
      "Wednesday,7,cloudy\n",
      "Thursday,13,windy\n",
      "Friday,0,hail\n",
      "Saturday,-2,snowy\n",
      "Sunday,2,foggy\n",
      "\n"
     ]
    }
   ],
   "source": [
    "#this will automatically close f at the \n",
    "#end of the code block\n",
    "with open(\"data/weather.txt\") as f:\n",
    "    contents=f.read()\n",
    "\n",
    "print(contents)"
   ]
  },
  {
   "cell_type": "code",
   "execution_count": 13,
   "id": "a4147334",
   "metadata": {},
   "outputs": [
    {
     "name": "stdout",
     "output_type": "stream",
     "text": [
      "Monday,-100,sunny\n"
     ]
    }
   ],
   "source": [
    "#run this code block multiple times\n",
    "\n",
    "# Writing text files\n",
    "#defaults to writing text\n",
    "with open(\"data/moreweather.txt\", 'w') as f:\n",
    "    f.write(\"Monday,-100,sunny\")\n",
    "\n",
    "with open(\"data/moreweather.txt\", 'r') as f:\n",
    "    contents=f.read()\n",
    "\n",
    "print(contents)\n",
    "\n"
   ]
  },
  {
   "cell_type": "code",
   "execution_count": 9,
   "id": "f6d2e2fe-f447-4dc3-85ea-99ce2dd0cfe7",
   "metadata": {},
   "outputs": [
    {
     "name": "stdout",
     "output_type": "stream",
     "text": [
      "Monday,-100,sunnyMonday,-100,sunnyMonday,-100,sunny\n",
      "Monday,-100,sunny\n",
      "\n"
     ]
    }
   ],
   "source": [
    "#run this code block multiple times\n",
    "\n",
    "# Writing text files\n",
    "#defaults to writing text\n",
    "with open(\"data/moreweather.txt\", 'a') as f:\n",
    "    f.write(\"Monday,-100,sunny\\n\")\n",
    "\n",
    "with open(\"data/moreweather.txt\", 'r') as f:\n",
    "    contents=f.read()\n",
    "\n",
    "print(contents)"
   ]
  },
  {
   "cell_type": "code",
   "execution_count": 16,
   "id": "67bf344c-32e2-48ef-8832-66b4edf4ef92",
   "metadata": {},
   "outputs": [
    {
     "ename": "TypeError",
     "evalue": "write() argument must be str, not int",
     "output_type": "error",
     "traceback": [
      "\u001b[0;31m---------------------------------------------------------------------------\u001b[0m",
      "\u001b[0;31mTypeError\u001b[0m                                 Traceback (most recent call last)",
      "Cell \u001b[0;32mIn[16], line 4\u001b[0m\n\u001b[1;32m      1\u001b[0m \u001b[38;5;66;03m#remember you can't write numbers to a file\u001b[39;00m\n\u001b[1;32m      3\u001b[0m \u001b[38;5;28;01mwith\u001b[39;00m \u001b[38;5;28mopen\u001b[39m(\u001b[38;5;124m\"\u001b[39m\u001b[38;5;124mdata/moreweather.txt\u001b[39m\u001b[38;5;124m\"\u001b[39m, \u001b[38;5;124m'\u001b[39m\u001b[38;5;124mw\u001b[39m\u001b[38;5;124m'\u001b[39m) \u001b[38;5;28;01mas\u001b[39;00m f:\n\u001b[0;32m----> 4\u001b[0m     f\u001b[38;5;241m.\u001b[39mwrite(\u001b[38;5;241m100\u001b[39m)\n",
      "\u001b[0;31mTypeError\u001b[0m: write() argument must be str, not int"
     ]
    }
   ],
   "source": [
    "#remember you can't write numbers to a file\n",
    "\n",
    "with open(\"data/moreweather.txt\", 'w') as f:\n",
    "    f.write(100) #cast this to str (string)\n"
   ]
  },
  {
   "cell_type": "code",
   "execution_count": null,
   "id": "71697876-2604-4d7c-88e1-7d34c4f24241",
   "metadata": {},
   "outputs": [],
   "source": []
  },
  {
   "attachments": {},
   "cell_type": "markdown",
   "id": "d9547db0-ee7e-4a11-a3b7-a648fe0b59b5",
   "metadata": {},
   "source": [
    "# Bits and Bytes\n",
    "\n",
    "There are 8 bits in a Byte\n",
    "Therefore a Byte can represent 256 different states (e.g., 00001111 could be a state)\n",
    "\n",
    "Hex digits represent 1 of 16 values: 0 1 2 3 4 5 6 7 8 9 A B C D E F \n",
    "\n",
    "2 Hex Digits next to one another could represent 16 x 16 = 256 combinations (states)\n",
    "\n",
    "Therefore 2 Hex Digits can be represented by a single Byte\n",
    "\n",
    "For example: Hex: FF is equivalent to Bits: 11111111 is equivalent to integer: 255\n",
    "\n",
    "If you examine the ASCII table (a precursor to Unicode) you'll see 'A' is character number 65 (or 41 in HEX). \n"
   ]
  },
  {
   "cell_type": "code",
   "execution_count": 18,
   "id": "cf41b672",
   "metadata": {},
   "outputs": [
    {
     "name": "stdout",
     "output_type": "stream",
     "text": [
      "b'a'\n",
      "b'a'\n",
      "97\n"
     ]
    }
   ],
   "source": [
    "my_number = 97\n",
    "print(my_number.to_bytes(1))\n",
    "\n",
    "#Note below we are calling the file a .txt file \n",
    "#which tells the OS that it contains encoded characters \n",
    "#e.g., unicode encoded and can be opened and read by human eyes\n",
    "#but we are then writing a single byte so opening this file in an editor may\n",
    "#not be a displayable character (or fail)\n",
    "\n",
    "#Writing Binary Data\n",
    "with open (\"data/lotsofweather.txt\", 'wb') as f:\n",
    "    f.write(my_number.to_bytes(1))\n",
    "\n",
    "#read it back\n",
    "with open (\"data/lotsofweather.txt\", 'rb') as f:\n",
    "    contents = f.read(1)\n",
    "\n",
    "print(contents)\n",
    "\n",
    "my_read_number = int.from_bytes(contents)\n",
    "\n",
    "print(my_read_number)\n"
   ]
  },
  {
   "cell_type": "code",
   "execution_count": null,
   "id": "8b5cebd1-71e8-4141-aafc-01078f02bff7",
   "metadata": {},
   "outputs": [],
   "source": []
  },
  {
   "cell_type": "code",
   "execution_count": null,
   "id": "3191d3db-ed2d-4083-979b-73888cf2c70a",
   "metadata": {},
   "outputs": [],
   "source": []
  },
  {
   "cell_type": "code",
   "execution_count": null,
   "id": "7cd2e9fa-5918-480d-93c1-dcb2dc34eb97",
   "metadata": {},
   "outputs": [],
   "source": []
  },
  {
   "cell_type": "code",
   "execution_count": null,
   "id": "7b66379c-10d5-4902-90e2-1ec9b246fa5b",
   "metadata": {},
   "outputs": [],
   "source": []
  },
  {
   "cell_type": "code",
   "execution_count": null,
   "id": "9ecf3f0e-9b23-40d3-97ed-2c0c636be21a",
   "metadata": {},
   "outputs": [],
   "source": []
  }
 ],
 "metadata": {
  "kernelspec": {
   "display_name": "Python 3 (ipykernel)",
   "language": "python",
   "name": "python3"
  },
  "language_info": {
   "codemirror_mode": {
    "name": "ipython",
    "version": 3
   },
   "file_extension": ".py",
   "mimetype": "text/x-python",
   "name": "python",
   "nbconvert_exporter": "python",
   "pygments_lexer": "ipython3",
   "version": "3.12.7"
  }
 },
 "nbformat": 4,
 "nbformat_minor": 5
}
