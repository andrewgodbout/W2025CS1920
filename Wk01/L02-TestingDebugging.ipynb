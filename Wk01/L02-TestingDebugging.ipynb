{
 "cells": [
  {
   "cell_type": "code",
   "execution_count": 34,
   "id": "453a5e80-96e4-460b-bd40-565a376ebcbd",
   "metadata": {},
   "outputs": [],
   "source": [
    "from doctest import run_docstring_examples\n",
    "\n",
    "def run_doctests(func):\n",
    "    run_docstring_examples(func, globals(), name=func.__name__)"
   ]
  },
  {
   "cell_type": "code",
   "execution_count": 9,
   "id": "870ae379-f01d-4ba9-b729-b0cdede4e547",
   "metadata": {},
   "outputs": [
    {
     "name": "stdout",
     "output_type": "stream",
     "text": [
      "Trying:\n",
      "    cs1920grade([1,1,1,1,1,1])\n",
      "Expecting:\n",
      "    100\n",
      "ok\n",
      "Trying:\n",
      "    cs1920grade([0,0,0,0,0,0])\n",
      "Expecting:\n",
      "    0\n",
      "ok\n",
      "Trying:\n",
      "    [cs1920grade(x) for x in [ [1,0,0,0,0,0], [0,1,0,0,0,0], [0,0,1,0,0,0], [0,0,0,1,0,0],[0,0,0,0,1,0],[0,0,0,0,0,1]]]\n",
      "Expecting:\n",
      "    [5, 20, 5, 18, 18, 35]\n",
      "ok\n",
      "Trying:\n",
      "    cs1920grade([])\n",
      "Expecting:\n",
      "    Traceback (most recent call last):\n",
      "    AssertionError: Error expecting input to have length 6\n",
      "ok\n",
      "Trying:\n",
      "    cs1920grade( [1,1,1,1.2,1,1])\n",
      "Expecting:\n",
      "    100\n",
      "ok\n",
      "Trying:\n",
      "    cs1920grade( [1,1,1,.5,.5,.48])\n",
      "Expecting:\n",
      "    45\n",
      "ok\n",
      "Trying:\n",
      "    cs1920grade( [1,0,0,.25,.5,.5])\n",
      "Expecting nothing\n",
      "**********************************************************************\n",
      "File \"__main__\", line 36, in __main__.cs1920grade\n",
      "Failed example:\n",
      "    cs1920grade( [1,0,0,.25,.5,.5])\n",
      "Expected nothing\n",
      "Got:\n",
      "    36\n",
      "1 items had no tests:\n",
      "    __main__\n",
      "**********************************************************************\n",
      "1 items had failures:\n",
      "   1 of   7 in __main__.cs1920grade\n",
      "7 tests in 2 items.\n",
      "6 passed and 1 failed.\n",
      "***Test Failed*** 1 failures.\n"
     ]
    },
    {
     "data": {
      "text/plain": [
       "TestResults(failed=1, attempted=7)"
      ]
     },
     "execution_count": 9,
     "metadata": {},
     "output_type": "execute_result"
    }
   ],
   "source": [
    "import math \n",
    "\n",
    "def cs1920grade(lst):\n",
    "    ''' Convert a list percentages for each assessment into a final grade in the course, \n",
    "        where assessments are values as follows:\n",
    "        participation: 5pt, labs: 20pts, assignment: 5pts, \n",
    "        mt1: 17.5pts, mt2: 17.5pts, exam: 35pts\n",
    "        all grades are rounded up to the nearest integer\n",
    "        if a student doesn't obtain at least 35 points from tests their grade \n",
    "        is the min of 45 or the sum of the pts\n",
    "        @param lst contains 6 percentage grades in order: \n",
    "               [participation, lab, assign, mt1, mt2, exam]\n",
    "        @return the final grade in CS 1920\n",
    "\n",
    "\n",
    "        >>> cs1920grade([1,1,1,1,1,1])\n",
    "        100\n",
    "\n",
    "        >>> cs1920grade([0,0,0,0,0,0])\n",
    "        0\n",
    "\n",
    "        >>> [cs1920grade(x) for x in [ [1,0,0,0,0,0], [0,1,0,0,0,0], [0,0,1,0,0,0], [0,0,0,1,0,0],[0,0,0,0,1,0],[0,0,0,0,0,1]]]\n",
    "        [5, 20, 5, 18, 18, 35]\n",
    "\n",
    "        >>> cs1920grade([])\n",
    "        Traceback (most recent call last):\n",
    "        AssertionError: Error expecting input to have length 6\n",
    "\n",
    "\n",
    "        >>> cs1920grade( [1,1,1,1.2,1,1])\n",
    "        100\n",
    "\n",
    "        >>> cs1920grade( [1,1,1,.5,.5,.48])\n",
    "        45\n",
    "\n",
    "        >>> cs1920grade( [1,0,0,.25,.5,.5])\n",
    "        36\n",
    "  \n",
    "    '''\n",
    "\n",
    "    assert len(lst)==6, \"Error expecting input to have length 6\"\n",
    "    \n",
    "    part = lst[0] * 5\n",
    "    lab = lst[1] * 20\n",
    "    assign = lst[2] * 5\n",
    "    mt1 = lst[3] * 17.5\n",
    "    mt2 = lst[4] * 17.5\n",
    "    exam = lst[5] * 35\n",
    "\n",
    "    grade = min(math.ceil(part + lab + assign + mt1 + mt2 + exam), 100)\n",
    "\n",
    "    if mt1+mt2+exam < 35:\n",
    "        return min(grade, 45)\n",
    "\n",
    "    return grade\n",
    "\n",
    "import doctest\n",
    "doctest.testmod(verbose=True)\n",
    "\n",
    "#print(cs1920grade([1,1,1,1,1,1])) #expect 100\n",
    "#print(cs1920grade([.5,.5,.5,.5,.5,.5])) # expect 50\n",
    "#print(cs1920grade([0,0,0,0,0,0])) # expect 0\n",
    "#print(cs1920grade([]))#expect assert"
   ]
  },
  {
   "cell_type": "code",
   "execution_count": 14,
   "id": "025a384e-e311-4081-88fe-f0e4e449a69d",
   "metadata": {},
   "outputs": [
    {
     "name": "stderr",
     "output_type": "stream",
     "text": [
      "----------------------------------------------------------------------\n",
      "Ran 1 test in 0.000s\n",
      "\n",
      "OK\n"
     ]
    }
   ],
   "source": [
    "#Example using Unittest framework \n",
    "\n",
    "from unittest import TestCase\n",
    "\n",
    "class TestCS1920Grade(TestCase):\n",
    "\n",
    "    def test_one_hundred(self):\n",
    "        grade = cs1920grade([1,1,1,1,1,1])\n",
    "        self.assertEqual(grade,100,\"all assessments were 100 final grade should be 100\")\n",
    "\n",
    "\n",
    "import unittest\n",
    "def run_unittest():\n",
    "    unittest.main(argv=[''], verbosity=0, exit=False)\n",
    "\n",
    "\n",
    "run_unittest()"
   ]
  },
  {
   "cell_type": "code",
   "execution_count": 25,
   "id": "91de1ab1-5208-4967-bc84-98abbff9eee3",
   "metadata": {},
   "outputs": [
    {
     "ename": "TypeError",
     "evalue": "object of type 'int' has no len()",
     "output_type": "error",
     "traceback": [
      "\u001b[0;31m---------------------------------------------------------------------------\u001b[0m",
      "\u001b[0;31mTypeError\u001b[0m                                 Traceback (most recent call last)",
      "Cell \u001b[0;32mIn[25], line 27\u001b[0m\n\u001b[1;32m     24\u001b[0m     \u001b[38;5;28;01melse\u001b[39;00m:\n\u001b[1;32m     25\u001b[0m         \u001b[38;5;28;01mreturn\u001b[39;00m \u001b[38;5;124m\"\u001b[39m\u001b[38;5;124mF\u001b[39m\u001b[38;5;124m\"\u001b[39m\n\u001b[0;32m---> 27\u001b[0m \u001b[38;5;28mprint\u001b[39m(assignLetterGrade(\u001b[38;5;241m96\u001b[39m))\n",
      "Cell \u001b[0;32mIn[25], line 12\u001b[0m, in \u001b[0;36massignLetterGrade\u001b[0;34m(numeric_grade)\u001b[0m\n\u001b[1;32m      2\u001b[0m \u001b[38;5;28;01mdef\u001b[39;00m \u001b[38;5;21massignLetterGrade\u001b[39m(numeric_grade):\n\u001b[1;32m      3\u001b[0m \u001b[38;5;250m    \u001b[39m\u001b[38;5;124;03m'''\u001b[39;00m\n\u001b[1;32m      4\u001b[0m \u001b[38;5;124;03m    Letter grade thresholds: \u001b[39;00m\n\u001b[1;32m      5\u001b[0m \u001b[38;5;124;03m    A+ = 95-100\u001b[39;00m\n\u001b[0;32m   (...)\u001b[0m\n\u001b[1;32m     10\u001b[0m \u001b[38;5;124;03m    F = 0-49\u001b[39;00m\n\u001b[1;32m     11\u001b[0m \u001b[38;5;124;03m    '''\u001b[39;00m\n\u001b[0;32m---> 12\u001b[0m     \u001b[38;5;28;01mif\u001b[39;00m \u001b[38;5;28mlen\u001b[39m(numeric_grade) \u001b[38;5;241m>\u001b[39m \u001b[38;5;241m5\u001b[39m:\n\u001b[1;32m     13\u001b[0m         \u001b[38;5;28mprint\u001b[39m(\u001b[38;5;124m\"\u001b[39m\u001b[38;5;124m5\u001b[39m\u001b[38;5;124m\"\u001b[39m)\n\u001b[1;32m     14\u001b[0m     \u001b[38;5;28;01mif\u001b[39;00m numeric_grade \u001b[38;5;241m>\u001b[39m\u001b[38;5;241m=\u001b[39m \u001b[38;5;241m95\u001b[39m \u001b[38;5;241m==\u001b[39m \u001b[38;5;28;01mTrue\u001b[39;00m:\n",
      "\u001b[0;31mTypeError\u001b[0m: object of type 'int' has no len()"
     ]
    }
   ],
   "source": [
    "#People like to explicitly state things that should be True\n",
    "def assignLetterGrade(numeric_grade):\n",
    "    '''\n",
    "    Letter grade thresholds: \n",
    "    A+ = 95-100\n",
    "    A =  85-94\n",
    "    B = 70-84\n",
    "    C = 60-69\n",
    "    D = 50-59\n",
    "    F = 0-49\n",
    "    '''\n",
    "    if len(numeric_grade) > 5:\n",
    "        print(\"5\")\n",
    "    if numeric_grade >= 95 == True:\n",
    "        return \"A+\"\n",
    "    elif numeric_grade >= 85 == True:\n",
    "        return \"A\"\n",
    "    elif numeric_grade >= 70 == True:\n",
    "        return \"B\"\n",
    "    elif numeric_grade >= 60 == True:\n",
    "        return \"C\"\n",
    "    elif numeric_grade >= 50 == True:\n",
    "        return \"D\"\n",
    "    else:\n",
    "        return \"F\"\n",
    "\n",
    "print(assignLetterGrade(96))\n",
    "    "
   ]
  },
  {
   "cell_type": "code",
   "execution_count": 21,
   "id": "e10f4d92-932f-4fa1-9f03-ec82993b8660",
   "metadata": {},
   "outputs": [
    {
     "name": "stdout",
     "output_type": "stream",
     "text": [
      "2\n"
     ]
    }
   ],
   "source": [
    "#Do you know how default arguments work?\n",
    "def add_to_list(item, lst = []):\n",
    "    '''\n",
    "     add the argument item to lst\n",
    "     if no lst is specified use an empty lst by default\n",
    "    '''\n",
    "    lst.append(item)\n",
    "    return lst\n",
    "\n",
    "\n",
    "my_lst = add_to_list(1)\n",
    "other_lst = add_to_list(2)\n",
    "\n",
    "print(len(other_lst))\n",
    "\n",
    "\n",
    "\n"
   ]
  },
  {
   "cell_type": "code",
   "execution_count": null,
   "id": "6b0db146-ffea-4615-b3bf-9cd45435c330",
   "metadata": {},
   "outputs": [],
   "source": []
  }
 ],
 "metadata": {
  "kernelspec": {
   "display_name": "Python 3 (ipykernel)",
   "language": "python",
   "name": "python3"
  },
  "language_info": {
   "codemirror_mode": {
    "name": "ipython",
    "version": 3
   },
   "file_extension": ".py",
   "mimetype": "text/x-python",
   "name": "python",
   "nbconvert_exporter": "python",
   "pygments_lexer": "ipython3",
   "version": "3.12.7"
  }
 },
 "nbformat": 4,
 "nbformat_minor": 5
}
