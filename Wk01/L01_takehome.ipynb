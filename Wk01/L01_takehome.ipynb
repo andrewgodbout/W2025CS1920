{
 "cells": [
  {
   "cell_type": "code",
   "execution_count": 3,
   "id": "acb10411-5043-4251-96b5-0e6645358e54",
   "metadata": {},
   "outputs": [
    {
     "data": {
      "text/plain": [
       "['student00',\n",
       " 'student01',\n",
       " 'student02',\n",
       " 'student03',\n",
       " 'student04',\n",
       " 'student05',\n",
       " 'student06',\n",
       " 'student07',\n",
       " 'student08',\n",
       " 'student09']"
      ]
     },
     "execution_count": 3,
     "metadata": {},
     "output_type": "execute_result"
    }
   ],
   "source": [
    "#list comprehension to make student01, student02, ...\n",
    "[f\"student{x:02}\" for x in range(10)]\n"
   ]
  },
  {
   "cell_type": "code",
   "execution_count": 29,
   "id": "068a65c3-1801-4bf3-9e76-0b40a15c49e0",
   "metadata": {},
   "outputs": [
    {
     "name": "stdout",
     "output_type": "stream",
     "text": [
      "False\n",
      "True\n",
      "False\n",
      "True\n",
      "False\n"
     ]
    }
   ],
   "source": [
    "import math\n",
    "def is_prime(number):\n",
    "    if number == 1:\n",
    "        return False\n",
    "    if number == 2:\n",
    "        return True\n",
    "    for i in range(2,math.ceil(math.sqrt(number))+1):\n",
    "        if (number % i) == 0:\n",
    "            return False\n",
    "    return True\n",
    "\n",
    "print(is_prime(91))\n",
    "print(is_prime(7))\n",
    "print(is_prime(1))\n",
    "print(is_prime(2))\n",
    "print(is_prime(4))"
   ]
  },
  {
   "cell_type": "code",
   "execution_count": null,
   "id": "9574a7d2-c536-46de-85e5-05edd5387d06",
   "metadata": {},
   "outputs": [],
   "source": []
  }
 ],
 "metadata": {
  "kernelspec": {
   "display_name": "Python 3 (ipykernel)",
   "language": "python",
   "name": "python3"
  },
  "language_info": {
   "codemirror_mode": {
    "name": "ipython",
    "version": 3
   },
   "file_extension": ".py",
   "mimetype": "text/x-python",
   "name": "python",
   "nbconvert_exporter": "python",
   "pygments_lexer": "ipython3",
   "version": "3.12.7"
  }
 },
 "nbformat": 4,
 "nbformat_minor": 5
}
